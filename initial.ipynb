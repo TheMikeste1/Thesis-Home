{
 "cells": [
  {
   "cell_type": "code",
   "execution_count": 36,
   "outputs": [],
   "source": [
    "import matplotlib.pyplot as plt\n",
    "import numpy as np\n",
    "import pandas as pd\n",
    "import seaborn as sns\n",
    "\n",
    "from numberline import *\n",
    "import voting_rules as rules\n",
    "from utility import get_continuous_weights, calculate_loss"
   ],
   "metadata": {
    "collapsed": false,
    "pycharm": {
     "name": "#%%\n"
    }
   }
  },
  {
   "cell_type": "markdown",
   "source": [
    "# Initial Setup and Testing"
   ],
   "metadata": {
    "collapsed": false,
    "pycharm": {
     "name": "#%% md\n"
    }
   }
  },
  {
   "cell_type": "code",
   "execution_count": 37,
   "outputs": [
    {
     "name": "stdout",
     "output_type": "stream",
     "text": [
      "[6.67981763 5.53087119 1.30164342 0.85623758]\n"
     ]
    }
   ],
   "source": [
    "min_val = 0\n",
    "max_val = 10\n",
    "size = 4\n",
    "\n",
    "true_pref = (max_val - min_val) / 2 + min_val\n",
    "vals = np.random.uniform(low=min_val, high=max_val, size=size)\n",
    "print(vals)"
   ],
   "metadata": {
    "collapsed": false,
    "pycharm": {
     "name": "#%%\n"
    }
   }
  },
  {
   "cell_type": "code",
   "execution_count": 38,
   "outputs": [
    {
     "name": "stdout",
     "output_type": "stream",
     "text": [
      "MEAN\n",
      "True preference: 5.0\n",
      "Unweighted result: 3.5921424558220303\n",
      "\tLoss: 1.9820628646988239\n",
      "Weighted result: 4.485476592545754\n",
      "\tLoss: 0.26473433681832803\n",
      "Better result: WEIGHTED\n",
      "\tDifference: 1.717328527880496\n"
     ]
    }
   ],
   "source": [
    "unweighted_result_mean = rules.mean(vals)\n",
    "unweighted_loss_mean = calculate_loss(unweighted_result_mean, true_pref)\n",
    "\n",
    "weighted_vals = get_continuous_weights(vals, min_val, max_val)\n",
    "weighted_result_mean = rules.weighted_mean(weighted_vals)\n",
    "weighted_loss_mean = calculate_loss(weighted_result_mean, true_pref)\n",
    "\n",
    "print(\"MEAN\")\n",
    "print(f\"True preference: {true_pref}\")\n",
    "print(f\"Unweighted result: {unweighted_result_mean}\")\n",
    "print(f\"\\tLoss: {unweighted_loss_mean}\")\n",
    "print(f\"Weighted result: {weighted_result_mean}\")\n",
    "print(f\"\\tLoss: {weighted_loss_mean}\")\n",
    "print(\n",
    "    f\"Better result: {'UNWEIGHTED' if unweighted_loss_mean <= weighted_loss_mean else 'WEIGHTED'}\")\n",
    "print(f\"\\tDifference: {abs(unweighted_loss_mean - weighted_loss_mean)}\")"
   ],
   "metadata": {
    "collapsed": false,
    "pycharm": {
     "name": "#%%\n"
    }
   }
  },
  {
   "cell_type": "code",
   "execution_count": 39,
   "outputs": [
    {
     "name": "stdout",
     "output_type": "stream",
     "text": [
      "MEDIAN\n",
      "True preference: 5.0\n",
      "Unweighted result: 1.3016434187074821\n",
      "\tLoss: 13.677841402389678\n",
      "Weighted result: 5.53087118850876\n",
      "\tLoss: 0.28182421878870345\n",
      "Better result: WEIGHTED\n",
      "\tDifference: 13.396017183600975\n"
     ]
    }
   ],
   "source": [
    "unweighted_result_median = rules.median(vals)\n",
    "unweighted_loss_median = calculate_loss(unweighted_result_median, true_pref)\n",
    "\n",
    "weighted_vals = get_continuous_weights(vals, min_val, max_val)\n",
    "weighted_result_median = rules.weighted_median(weighted_vals)\n",
    "weighted_loss_median = calculate_loss(weighted_result_median, true_pref)\n",
    "\n",
    "print(\"MEDIAN\")\n",
    "print(f\"True preference: {true_pref}\")\n",
    "print(f\"Unweighted result: {unweighted_result_median}\")\n",
    "print(f\"\\tLoss: {unweighted_loss_median}\")\n",
    "print(f\"Weighted result: {weighted_result_median}\")\n",
    "print(f\"\\tLoss: {weighted_loss_median}\")\n",
    "print(\n",
    "    f\"Better result: {'UNWEIGHTED' if unweighted_loss_median <= weighted_loss_median else 'WEIGHTED'}\")\n",
    "print(f\"\\tDifference: {abs(unweighted_loss_median - weighted_loss_median)}\")"
   ],
   "metadata": {
    "collapsed": false,
    "pycharm": {
     "name": "#%%\n"
    }
   }
  },
  {
   "cell_type": "code",
   "execution_count": 40,
   "outputs": [
    {
     "name": "stdout",
     "output_type": "stream",
     "text": [
      "True preference: green\n",
      "Unweighted result: red\n",
      "Weighted result: purple\n",
      "\n",
      "Best weighted rule: MEAN\n",
      "Best unweighted rule: MEAN\n"
     ]
    },
    {
     "data": {
      "text/plain": "<Figure size 432x288 with 1 Axes>",
      "image/png": "[encoded data removed]"
     },
     "metadata": {
      "needs_background": "light"
     },
     "output_type": "display_data"
    },
    {
     "data": {
      "text/plain": "<Figure size 432x288 with 1 Axes>",
      "image/png": "[encoded data removed]"
     },
     "metadata": {
      "needs_background": "light"
     },
     "output_type": "display_data"
    }
   ],
   "source": [
    "print(f\"True preference: green\")\n",
    "print(f\"Unweighted result: red\")\n",
    "print(f\"Weighted result: purple\")\n",
    "\n",
    "print()\n",
    "print(\n",
    "    f\"Best weighted rule: {'MEDIAN' if weighted_loss_median < weighted_loss_mean else 'TIE' if weighted_loss_median == weighted_loss_mean else 'MEAN'}\")\n",
    "print(\n",
    "    f\"Best unweighted rule: {'MEDIAN' if unweighted_loss_median < unweighted_loss_mean else 'TIE' if unweighted_loss_median == unweighted_loss_mean else 'MEAN'}\")\n",
    "\n",
    "ax = numberline(vals, min_val, max_val)\n",
    "ax.scatter(true_pref, 0, clip_on=False, zorder=3, color='green')\n",
    "ax.scatter(unweighted_result_mean, 0, clip_on=False, zorder=3, color='red')\n",
    "ax.scatter(weighted_result_mean, 0, clip_on=False, zorder=3, color='purple')\n",
    "plt.title(\"MEAN\")\n",
    "\n",
    "ax = numberline(vals, min_val, max_val)\n",
    "ax.scatter(true_pref, 0, clip_on=False, zorder=3, color='green')\n",
    "ax.scatter(unweighted_result_median, 0, clip_on=False, zorder=3, color='red')\n",
    "ax.scatter(weighted_result_median, 0, clip_on=False, zorder=3, color='purple')\n",
    "plt.title(\"MEDIAN\");"
   ],
   "metadata": {
    "collapsed": false,
    "pycharm": {
     "name": "#%%\n"
    }
   }
  },
  {
   "cell_type": "markdown",
   "source": [
    "# Mimic Paper Results"
   ],
   "metadata": {
    "collapsed": false,
    "pycharm": {
     "name": "#%% md\n"
    }
   }
  },
  {
   "cell_type": "code",
   "execution_count": 41,
   "outputs": [
    {
     "data": {
      "text/plain": "       voters             rule    result       loss\n0           1             mean  9.822559  23.257076\n1           1             mean  2.168008   8.020181\n2           1             mean  9.750031  22.562793\n3           1             mean  4.427274   0.328015\n4           1             mean  2.169606   8.011132\n...       ...              ...       ...        ...\n39995     100  weighted_median  4.960104   0.001592\n39996     100  weighted_median  4.977852   0.000491\n39997     100  weighted_median  4.978142   0.000478\n39998     100  weighted_median  4.993934   0.000037\n39999     100  weighted_median  5.065970   0.004352\n\n[40000 rows x 4 columns]",
      "text/html": "<div>\n<style scoped>\n    .dataframe tbody tr th:only-of-type {\n        vertical-align: middle;\n    }\n\n    .dataframe tbody tr th {\n        vertical-align: top;\n    }\n\n    .dataframe thead th {\n        text-align: right;\n    }\n</style>\n<table border=\"1\" class=\"dataframe\">\n  <thead>\n    <tr style=\"text-align: right;\">\n      <th></th>\n      <th>voters</th>\n      <th>rule</th>\n      <th>result</th>\n      <th>loss</th>\n    </tr>\n  </thead>\n  <tbody>\n    <tr>\n      <th>0</th>\n      <td>1</td>\n      <td>mean</td>\n      <td>9.822559</td>\n      <td>23.257076</td>\n    </tr>\n    <tr>\n      <th>1</th>\n      <td>1</td>\n      <td>mean</td>\n      <td>2.168008</td>\n      <td>8.020181</td>\n    </tr>\n    <tr>\n      <th>2</th>\n      <td>1</td>\n      <td>mean</td>\n      <td>9.750031</td>\n      <td>22.562793</td>\n    </tr>\n    <tr>\n      <th>3</th>\n      <td>1</td>\n      <td>mean</td>\n      <td>4.427274</td>\n      <td>0.328015</td>\n    </tr>\n    <tr>\n      <th>4</th>\n      <td>1</td>\n      <td>mean</td>\n      <td>2.169606</td>\n      <td>8.011132</td>\n    </tr>\n    <tr>\n      <th>...</th>\n      <td>...</td>\n      <td>...</td>\n      <td>...</td>\n      <td>...</td>\n    </tr>\n    <tr>\n      <th>39995</th>\n      <td>100</td>\n      <td>weighted_median</td>\n      <td>4.960104</td>\n      <td>0.001592</td>\n    </tr>\n    <tr>\n      <th>39996</th>\n      <td>100</td>\n      <td>weighted_median</td>\n      <td>4.977852</td>\n      <td>0.000491</td>\n    </tr>\n    <tr>\n      <th>39997</th>\n      <td>100</td>\n      <td>weighted_median</td>\n      <td>4.978142</td>\n      <td>0.000478</td>\n    </tr>\n    <tr>\n      <th>39998</th>\n      <td>100</td>\n      <td>weighted_median</td>\n      <td>4.993934</td>\n      <td>0.000037</td>\n    </tr>\n    <tr>\n      <th>39999</th>\n      <td>100</td>\n      <td>weighted_median</td>\n      <td>5.065970</td>\n      <td>0.004352</td>\n    </tr>\n  </tbody>\n</table>\n<p>40000 rows × 4 columns</p>\n</div>"
     },
     "execution_count": 41,
     "metadata": {},
     "output_type": "execute_result"
    }
   ],
   "source": [
    "samples = 100\n",
    "\n",
    "min_val = 0\n",
    "max_val = 10\n",
    "true_pref = (max_val - min_val) / 2 + min_val\n",
    "\n",
    "mechanisms = {\n",
    "    \"mean\"           : rules.mean,\n",
    "    \"weighted_mean\"  : lambda v: rules.weighted_mean(\n",
    "        get_continuous_weights(v, min_val, max_val)),\n",
    "    \"median\"         : rules.median,\n",
    "    \"weighted_median\": lambda v: rules.weighted_median(\n",
    "        get_continuous_weights(v, min_val, max_val)),\n",
    "}\n",
    "\n",
    "df_data = pd.DataFrame(columns=[\"voters\", \"rule\", \"result\", \"loss\"])\n",
    "\n",
    "for voters in range(1, 100 + 1):\n",
    "   for rule, exe in mechanisms.items():\n",
    "      for _ in range(samples):\n",
    "         vals = np.random.uniform(low=min_val, high=max_val, size=voters)\n",
    "         result = exe(vals)\n",
    "         loss = calculate_loss(result, true_pref)\n",
    "         df_data.loc[len(df_data)] = [voters, rule, result, loss]\n",
    "df_data"
   ],
   "metadata": {
    "collapsed": false,
    "pycharm": {
     "name": "#%%\n"
    }
   }
  },
  {
   "cell_type": "code",
   "execution_count": 42,
   "outputs": [
    {
     "data": {
      "text/plain": "                          result      loss\nvoters rule                               \n1      mean             5.052557  8.269092\n       median           5.172530  8.310462\n       weighted_mean    4.853370  7.734424\n       weighted_median  4.622268  9.057494\n2      mean             4.975631  3.606486\n...                          ...       ...\n99     weighted_median  4.992691  0.003930\n100    mean             4.972945  0.093362\n       median           4.960842  0.270928\n       weighted_mean    5.000545  0.000010\n       weighted_median  4.992449  0.003821\n\n[400 rows x 2 columns]",
      "text/html": "<div>\n<style scoped>\n    .dataframe tbody tr th:only-of-type {\n        vertical-align: middle;\n    }\n\n    .dataframe tbody tr th {\n        vertical-align: top;\n    }\n\n    .dataframe thead th {\n        text-align: right;\n    }\n</style>\n<table border=\"1\" class=\"dataframe\">\n  <thead>\n    <tr style=\"text-align: right;\">\n      <th></th>\n      <th></th>\n      <th>result</th>\n      <th>loss</th>\n    </tr>\n    <tr>\n      <th>voters</th>\n      <th>rule</th>\n      <th></th>\n      <th></th>\n    </tr>\n  </thead>\n  <tbody>\n    <tr>\n      <th rowspan=\"4\" valign=\"top\">1</th>\n      <th>mean</th>\n      <td>5.052557</td>\n      <td>8.269092</td>\n    </tr>\n    <tr>\n      <th>median</th>\n      <td>5.172530</td>\n      <td>8.310462</td>\n    </tr>\n    <tr>\n      <th>weighted_mean</th>\n      <td>4.853370</td>\n      <td>7.734424</td>\n    </tr>\n    <tr>\n      <th>weighted_median</th>\n      <td>4.622268</td>\n      <td>9.057494</td>\n    </tr>\n    <tr>\n      <th>2</th>\n      <th>mean</th>\n      <td>4.975631</td>\n      <td>3.606486</td>\n    </tr>\n    <tr>\n      <th>...</th>\n      <th>...</th>\n      <td>...</td>\n      <td>...</td>\n    </tr>\n    <tr>\n      <th>99</th>\n      <th>weighted_median</th>\n      <td>4.992691</td>\n      <td>0.003930</td>\n    </tr>\n    <tr>\n      <th rowspan=\"4\" valign=\"top\">100</th>\n      <th>mean</th>\n      <td>4.972945</td>\n      <td>0.093362</td>\n    </tr>\n    <tr>\n      <th>median</th>\n      <td>4.960842</td>\n      <td>0.270928</td>\n    </tr>\n    <tr>\n      <th>weighted_mean</th>\n      <td>5.000545</td>\n      <td>0.000010</td>\n    </tr>\n    <tr>\n      <th>weighted_median</th>\n      <td>4.992449</td>\n      <td>0.003821</td>\n    </tr>\n  </tbody>\n</table>\n<p>400 rows × 2 columns</p>\n</div>"
     },
     "execution_count": 42,
     "metadata": {},
     "output_type": "execute_result"
    }
   ],
   "source": [
    "df_means = df_data.groupby([\"voters\", \"rule\"]).mean()\n",
    "df_means"
   ],
   "metadata": {
    "collapsed": false,
    "pycharm": {
     "name": "#%%\n"
    }
   }
  },
  {
   "cell_type": "code",
   "execution_count": 47,
   "outputs": [
    {
     "data": {
      "text/plain": "          result          loss  rule  log_loss_ratio\nvoters                                              \n1       1.041041      1.069128  mean        0.066844\n2       1.032390      1.925196  mean        0.655028\n3       1.014094      2.092699  mean        0.738454\n4       0.989917      3.870570  mean        1.353402\n5       1.013589      6.217794  mean        1.827415\n...          ...           ...   ...             ...\n96      1.003118  14358.465756  mean        9.572095\n97      1.011487   5120.210389  mean        8.540951\n98      0.996876   7230.646498  mean        8.886084\n99      1.011180  16397.981137  mean        9.704914\n100     0.994481   9239.315802  mean        9.131223\n\n[100 rows x 4 columns]",
      "text/html": "<div>\n<style scoped>\n    .dataframe tbody tr th:only-of-type {\n        vertical-align: middle;\n    }\n\n    .dataframe tbody tr th {\n        vertical-align: top;\n    }\n\n    .dataframe thead th {\n        text-align: right;\n    }\n</style>\n<table border=\"1\" class=\"dataframe\">\n  <thead>\n    <tr style=\"text-align: right;\">\n      <th></th>\n      <th>result</th>\n      <th>loss</th>\n      <th>rule</th>\n      <th>log_loss_ratio</th>\n    </tr>\n    <tr>\n      <th>voters</th>\n      <th></th>\n      <th></th>\n      <th></th>\n      <th></th>\n    </tr>\n  </thead>\n  <tbody>\n    <tr>\n      <th>1</th>\n      <td>1.041041</td>\n      <td>1.069128</td>\n      <td>mean</td>\n      <td>0.066844</td>\n    </tr>\n    <tr>\n      <th>2</th>\n      <td>1.032390</td>\n      <td>1.925196</td>\n      <td>mean</td>\n      <td>0.655028</td>\n    </tr>\n    <tr>\n      <th>3</th>\n      <td>1.014094</td>\n      <td>2.092699</td>\n      <td>mean</td>\n      <td>0.738454</td>\n    </tr>\n    <tr>\n      <th>4</th>\n      <td>0.989917</td>\n      <td>3.870570</td>\n      <td>mean</td>\n      <td>1.353402</td>\n    </tr>\n    <tr>\n      <th>5</th>\n      <td>1.013589</td>\n      <td>6.217794</td>\n      <td>mean</td>\n      <td>1.827415</td>\n    </tr>\n    <tr>\n      <th>...</th>\n      <td>...</td>\n      <td>...</td>\n      <td>...</td>\n      <td>...</td>\n    </tr>\n    <tr>\n      <th>96</th>\n      <td>1.003118</td>\n      <td>14358.465756</td>\n      <td>mean</td>\n      <td>9.572095</td>\n    </tr>\n    <tr>\n      <th>97</th>\n      <td>1.011487</td>\n      <td>5120.210389</td>\n      <td>mean</td>\n      <td>8.540951</td>\n    </tr>\n    <tr>\n      <th>98</th>\n      <td>0.996876</td>\n      <td>7230.646498</td>\n      <td>mean</td>\n      <td>8.886084</td>\n    </tr>\n    <tr>\n      <th>99</th>\n      <td>1.011180</td>\n      <td>16397.981137</td>\n      <td>mean</td>\n      <td>9.704914</td>\n    </tr>\n    <tr>\n      <th>100</th>\n      <td>0.994481</td>\n      <td>9239.315802</td>\n      <td>mean</td>\n      <td>9.131223</td>\n    </tr>\n  </tbody>\n</table>\n<p>100 rows × 4 columns</p>\n</div>"
     },
     "execution_count": 47,
     "metadata": {},
     "output_type": "execute_result"
    }
   ],
   "source": [
    "df_mean_ratios = df_means.loc[:, \"mean\", :] / df_means.loc[:, \"weighted_mean\", :]\n",
    "df_mean_ratios[\"rule\"] = \"mean\"\n",
    "df_mean_ratios[\"log_loss_ratio\"] = np.log(df_mean_ratios[\"loss\"])\n",
    "df_mean_ratios"
   ],
   "metadata": {
    "collapsed": false,
    "pycharm": {
     "name": "#%%\n"
    }
   }
  },
  {
   "cell_type": "code",
   "execution_count": 48,
   "outputs": [
    {
     "data": {
      "text/plain": "          result       loss    rule  log_loss_ratio\nvoters                                             \n1       1.119046   0.917523  median       -0.086077\n2       0.692527   2.058565  median        0.722009\n3       1.027528   2.056536  median        0.721023\n4       0.750479   4.140659  median        1.420855\n5       0.932305   3.391636  median        1.221312\n...          ...        ...     ...             ...\n96      1.006031  40.957430  median        3.712533\n97      1.000520  30.276512  median        3.410372\n98      0.986783  66.882227  median        4.202933\n99      0.994119  66.117319  median        4.191431\n100     0.993669  70.898527  median        4.261250\n\n[100 rows x 4 columns]",
      "text/html": "<div>\n<style scoped>\n    .dataframe tbody tr th:only-of-type {\n        vertical-align: middle;\n    }\n\n    .dataframe tbody tr th {\n        vertical-align: top;\n    }\n\n    .dataframe thead th {\n        text-align: right;\n    }\n</style>\n<table border=\"1\" class=\"dataframe\">\n  <thead>\n    <tr style=\"text-align: right;\">\n      <th></th>\n      <th>result</th>\n      <th>loss</th>\n      <th>rule</th>\n      <th>log_loss_ratio</th>\n    </tr>\n    <tr>\n      <th>voters</th>\n      <th></th>\n      <th></th>\n      <th></th>\n      <th></th>\n    </tr>\n  </thead>\n  <tbody>\n    <tr>\n      <th>1</th>\n      <td>1.119046</td>\n      <td>0.917523</td>\n      <td>median</td>\n      <td>-0.086077</td>\n    </tr>\n    <tr>\n      <th>2</th>\n      <td>0.692527</td>\n      <td>2.058565</td>\n      <td>median</td>\n      <td>0.722009</td>\n    </tr>\n    <tr>\n      <th>3</th>\n      <td>1.027528</td>\n      <td>2.056536</td>\n      <td>median</td>\n      <td>0.721023</td>\n    </tr>\n    <tr>\n      <th>4</th>\n      <td>0.750479</td>\n      <td>4.140659</td>\n      <td>median</td>\n      <td>1.420855</td>\n    </tr>\n    <tr>\n      <th>5</th>\n      <td>0.932305</td>\n      <td>3.391636</td>\n      <td>median</td>\n      <td>1.221312</td>\n    </tr>\n    <tr>\n      <th>...</th>\n      <td>...</td>\n      <td>...</td>\n      <td>...</td>\n      <td>...</td>\n    </tr>\n    <tr>\n      <th>96</th>\n      <td>1.006031</td>\n      <td>40.957430</td>\n      <td>median</td>\n      <td>3.712533</td>\n    </tr>\n    <tr>\n      <th>97</th>\n      <td>1.000520</td>\n      <td>30.276512</td>\n      <td>median</td>\n      <td>3.410372</td>\n    </tr>\n    <tr>\n      <th>98</th>\n      <td>0.986783</td>\n      <td>66.882227</td>\n      <td>median</td>\n      <td>4.202933</td>\n    </tr>\n    <tr>\n      <th>99</th>\n      <td>0.994119</td>\n      <td>66.117319</td>\n      <td>median</td>\n      <td>4.191431</td>\n    </tr>\n    <tr>\n      <th>100</th>\n      <td>0.993669</td>\n      <td>70.898527</td>\n      <td>median</td>\n      <td>4.261250</td>\n    </tr>\n  </tbody>\n</table>\n<p>100 rows × 4 columns</p>\n</div>"
     },
     "execution_count": 48,
     "metadata": {},
     "output_type": "execute_result"
    }
   ],
   "source": [
    "df_median_ratios = df_means.loc[:, \"median\", :] / df_means.loc[:, \"weighted_median\", :]\n",
    "df_median_ratios[\"rule\"] = \"median\"\n",
    "df_median_ratios[\"log_loss_ratio\"] = np.log(df_median_ratios[\"loss\"])\n",
    "df_median_ratios"
   ],
   "metadata": {
    "collapsed": false,
    "pycharm": {
     "name": "#%%\n"
    }
   }
  },
  {
   "cell_type": "code",
   "execution_count": 52,
   "outputs": [
    {
     "data": {
      "text/plain": "<AxesSubplot:xlabel='voters', ylabel='log_loss_ratio'>"
     },
     "execution_count": 52,
     "metadata": {},
     "output_type": "execute_result"
    },
    {
     "data": {
      "text/plain": "<Figure size 432x288 with 1 Axes>",
      "image/png": "[encoded data removed]"
     },
     "metadata": {
      "needs_background": "light"
     },
     "output_type": "display_data"
    }
   ],
   "source": [
    "df_combined_ratios = pd.concat([df_mean_ratios, df_median_ratios]).reset_index()\n",
    "sns.scatterplot(x=\"voters\", y=\"log_loss_ratio\", hue=\"rule\", data=df_combined_ratios)"
   ],
   "metadata": {
    "collapsed": false,
    "pycharm": {
     "name": "#%%\n"
    }
   }
  },
  {
   "cell_type": "code",
   "execution_count": null,
   "outputs": [],
   "source": [],
   "metadata": {
    "collapsed": false,
    "pycharm": {
     "name": "#%%\n"
    }
   }
  }
 ],
 "metadata": {
  "kernelspec": {
   "display_name": "Python 3",
   "language": "python",
   "name": "python3"
  },
  "language_info": {
   "codemirror_mode": {
    "name": "ipython",
    "version": 2
   },
   "file_extension": ".py",
   "mimetype": "text/x-python",
   "name": "python",
   "nbconvert_exporter": "python",
   "pygments_lexer": "ipython2",
   "version": "2.7.6"
  }
 },
 "nbformat": 4,
 "nbformat_minor": 0
}