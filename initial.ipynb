{
 "cells": [
  {
   "cell_type": "code",
   "execution_count": 1,
   "outputs": [],
   "source": [
    "import numpy as np\n",
    "import matplotlib.pyplot as plt\n",
    "\n",
    "from numberline import *\n",
    "import voting_rules as rules"
   ],
   "metadata": {
    "collapsed": false,
    "pycharm": {
     "name": "#%%\n"
    }
   }
  },
  {
   "cell_type": "code",
   "execution_count": 2,
   "outputs": [],
   "source": [
    "from utility import get_continuous_weights, loss"
   ],
   "metadata": {
    "collapsed": false,
    "pycharm": {
     "name": "#%%\n"
    }
   }
  },
  {
   "cell_type": "code",
   "execution_count": 3,
   "outputs": [
    {
     "name": "stdout",
     "output_type": "stream",
     "text": [
      "[9.47076923 4.40458826 3.09595968 7.42904019]\n"
     ]
    }
   ],
   "source": [
    "min_val = 0\n",
    "max_val = 10\n",
    "size = 4\n",
    "\n",
    "true_pref = (max_val - min_val) / 2 + min_val\n",
    "vals = np.random.uniform(low=min_val, high=max_val, size=size)\n",
    "print(vals)"
   ],
   "metadata": {
    "collapsed": false,
    "pycharm": {
     "name": "#%%\n"
    }
   }
  },
  {
   "cell_type": "code",
   "execution_count": 4,
   "outputs": [
    {
     "name": "stdout",
     "output_type": "stream",
     "text": [
      "MEAN\n",
      "True preference: 5.0\n",
      "Unweighted result: 6.100089340674344\n",
      "\tLoss: 1.2101965574653137\n",
      "Weighted result: 5.465244057428443\n",
      "\tLoss: 0.21645203297248006\n",
      "Better result: WEIGHTED\n",
      "\tDifference: 0.9937445244928337\n"
     ]
    }
   ],
   "source": [
    "unweighted_result_mean = rules.mean(vals)\n",
    "unweighted_loss_mean = loss(unweighted_result_mean, true_pref)\n",
    "\n",
    "weighted_vals = get_continuous_weights(vals, min_val, max_val)\n",
    "weighted_result_mean = rules.weighted_mean(weighted_vals)\n",
    "weighted_loss_mean = loss(weighted_result_mean, true_pref)\n",
    "\n",
    "print(\"MEAN\")\n",
    "print(f\"True preference: {true_pref}\")\n",
    "print(f\"Unweighted result: {unweighted_result_mean}\")\n",
    "print(f\"\\tLoss: {unweighted_loss_mean}\")\n",
    "print(f\"Weighted result: {weighted_result_mean}\")\n",
    "print(f\"\\tLoss: {weighted_loss_mean}\")\n",
    "print(f\"Better result: {'UNWEIGHTED' if unweighted_loss_mean <= weighted_loss_mean else 'WEIGHTED'}\")\n",
    "print(f\"\\tDifference: {abs(unweighted_loss_mean - weighted_loss_mean)}\")"
   ],
   "metadata": {
    "collapsed": false,
    "pycharm": {
     "name": "#%%\n"
    }
   }
  },
  {
   "cell_type": "code",
   "execution_count": 5,
   "outputs": [
    {
     "name": "stdout",
     "output_type": "stream",
     "text": [
      "MEDIAN\n",
      "True preference: 5.0\n",
      "Unweighted result: 4.404588261590442\n",
      "\tLoss: 0.35451513823589176\n",
      "Weighted result: 4.404588261590442\n",
      "\tLoss: 0.35451513823589176\n",
      "Better result: UNWEIGHTED\n",
      "\tDifference: 0.0\n"
     ]
    }
   ],
   "source": [
    "unweighted_result_median = rules.median(vals)\n",
    "unweighted_loss_median = loss(unweighted_result_median, true_pref)\n",
    "\n",
    "weighted_vals = get_continuous_weights(vals, min_val, max_val)\n",
    "weighted_result_median = rules.weighted_median(weighted_vals)\n",
    "weighted_loss_median = loss(weighted_result_median, true_pref)\n",
    "\n",
    "print(\"MEDIAN\")\n",
    "print(f\"True preference: {true_pref}\")\n",
    "print(f\"Unweighted result: {unweighted_result_median}\")\n",
    "print(f\"\\tLoss: {unweighted_loss_median}\")\n",
    "print(f\"Weighted result: {weighted_result_median}\")\n",
    "print(f\"\\tLoss: {weighted_loss_median}\")\n",
    "print(f\"Better result: {'UNWEIGHTED' if unweighted_loss_median <= weighted_loss_median else 'WEIGHTED'}\")\n",
    "print(f\"\\tDifference: {abs(unweighted_loss_median - weighted_loss_median)}\")"
   ],
   "metadata": {
    "collapsed": false,
    "pycharm": {
     "name": "#%%\n"
    }
   }
  },
  {
   "cell_type": "code",
   "execution_count": 6,
   "outputs": [
    {
     "name": "stdout",
     "output_type": "stream",
     "text": [
      "True preference: green\n",
      "Unweighted result: red\n",
      "Weighted result: purple\n",
      "\n",
      "Best weighted rule: MEAN\n",
      "Best unweighted rule: MEDIAN\n"
     ]
    },
    {
     "data": {
      "text/plain": "<Figure size 432x288 with 1 Axes>",
      "image/png": "[encoded data removed]"
     },
     "metadata": {
      "needs_background": "light"
     },
     "output_type": "display_data"
    },
    {
     "data": {
      "text/plain": "<Figure size 432x288 with 1 Axes>",
      "image/png": "[encoded data removed]"
     },
     "metadata": {
      "needs_background": "light"
     },
     "output_type": "display_data"
    }
   ],
   "source": [
    "print(f\"True preference: green\")\n",
    "print(f\"Unweighted result: red\")\n",
    "print(f\"Weighted result: purple\")\n",
    "\n",
    "print()\n",
    "print(f\"Best weighted rule: {'MEDIAN' if weighted_loss_median < weighted_loss_mean else 'TIE' if weighted_loss_median == weighted_loss_mean else 'MEAN'}\")\n",
    "print(f\"Best unweighted rule: {'MEDIAN' if unweighted_loss_median < unweighted_loss_mean else 'TIE' if unweighted_loss_median == unweighted_loss_mean else 'MEAN'}\")\n",
    "\n",
    "ax = numberline(vals, min_val, max_val)\n",
    "ax.scatter(true_pref, 0, clip_on=False, zorder=3, color='green')\n",
    "ax.scatter(unweighted_result_mean, 0, clip_on=False, zorder=3, color='red')\n",
    "ax.scatter(weighted_result_mean, 0, clip_on=False, zorder=3, color='purple')\n",
    "plt.title(\"MEAN\")\n",
    "\n",
    "ax = numberline(vals, min_val, max_val)\n",
    "ax.scatter(true_pref, 0, clip_on=False, zorder=3, color='green')\n",
    "ax.scatter(unweighted_result_median, 0, clip_on=False, zorder=3, color='red')\n",
    "ax.scatter(weighted_result_median, 0, clip_on=False, zorder=3, color='purple')\n",
    "plt.title(\"MEDIAN\");"
   ],
   "metadata": {
    "collapsed": false,
    "pycharm": {
     "name": "#%%\n"
    }
   }
  }
 ],
 "metadata": {
  "kernelspec": {
   "display_name": "Python 3",
   "language": "python",
   "name": "python3"
  },
  "language_info": {
   "codemirror_mode": {
    "name": "ipython",
    "version": 2
   },
   "file_extension": ".py",
   "mimetype": "text/x-python",
   "name": "python",
   "nbconvert_exporter": "python",
   "pygments_lexer": "ipython2",
   "version": "2.7.6"
  }
 },
 "nbformat": 4,
 "nbformat_minor": 0
}