{
 "cells": [
  {
   "cell_type": "code",
   "execution_count": 1,
   "outputs": [],
   "source": [
    "import numpy as np\n",
    "from numberline import *\n",
    "import voting_rules as rules"
   ],
   "metadata": {
    "collapsed": false,
    "pycharm": {
     "name": "#%%\n"
    }
   }
  },
  {
   "cell_type": "code",
   "execution_count": 2,
   "outputs": [],
   "source": [
    "def get_continuous_weights(values: [float], low: float, high: float) -> [tuple]:\n",
    "    \"\"\"\n",
    "    Returns a list of value-weight pairs for the given values assuming the\n",
    "    population is infinite, as per \"Proxy Voting for Better Outcomes\"\n",
    "    chapter 2, paragraph 2.\n",
    "\n",
    "    # Figure 1 second line of paper\n",
    "    >>> v = [1, 3, 6, 7, ]\n",
    "    >>> get_continuous_weights(v, 0, 10)\n",
    "    [(1, 2.0), (3, 2.5), (6, 2.0), (7, 3.5)]\n",
    "\n",
    "    # Figure 1 third line of paper\n",
    "    >>> v = [1, 6, 7, ]\n",
    "    >>> get_continuous_weights(v, 0, 10)\n",
    "    [(1, 3.5), (6, 3.0), (7, 3.5)]\n",
    "    \"\"\"\n",
    "    if len(values) == 0:\n",
    "        return []\n",
    "\n",
    "    low, high = min(low, high), max(low, high)\n",
    "\n",
    "    values = sorted(values)\n",
    "    assert low <= values[0] <= high, \"Values must be in the range [min_val, max_val]\"\n",
    "    assert low <= values[-1] <= high, \"Values must be in the range [min_val, max_val]\"\n",
    "\n",
    "    weights = [None] * len(values)\n",
    "\n",
    "    # prev_val_border will keep track of where the last value's range ends\n",
    "    prev_val_border = low\n",
    "    # Loop through all but the last, calculating the weights\n",
    "    for i in range(len(values) - 1):\n",
    "        val = values[i]\n",
    "        next_val = values[i + 1]\n",
    "        weight = val - prev_val_border + (next_val - val) / 2\n",
    "        weights[i] = weight\n",
    "        # The new border will be halfway between the current value and the next\n",
    "        prev_val_border = val + (next_val - val) / 2\n",
    "\n",
    "    weights[-1] = high - prev_val_border\n",
    "    return list(zip(values, weights))"
   ],
   "metadata": {
    "collapsed": false,
    "pycharm": {
     "name": "#%%\n"
    }
   }
  },
  {
   "cell_type": "code",
   "execution_count": null,
   "outputs": [],
   "source": [
    "min_val = 0\n",
    "max_val = 10\n",
    "size = 4\n",
    "\n",
    "true_pref = (max_val - min_val) / 2 + min_val\n",
    "vals = np.random.uniform(low=min_val, high=max_val, size=size)\n",
    "print(vals)"
   ],
   "metadata": {
    "collapsed": false,
    "pycharm": {
     "name": "#%%\n",
     "is_executing": true
    }
   }
  },
  {
   "cell_type": "code",
   "execution_count": null,
   "outputs": [],
   "source": [
    "ax = numberline(vals, min_val, max_val)\n",
    "\n",
    "unweighted_result = rules.mean(vals)\n",
    "unweighted_distance = abs(unweighted_result - true_pref)\n",
    "\n",
    "weighted_vals = get_continuous_weights(vals, min_val, max_val)\n",
    "weighted_result = rules.weighted_mean(weighted_vals)\n",
    "weighted_distance = abs(weighted_result - true_pref)\n",
    "\n",
    "ax.scatter(true_pref, 0, clip_on=False, zorder=3, color='green')\n",
    "ax.scatter(unweighted_result, 0, clip_on=False, zorder=3, color='red')\n",
    "ax.scatter(weighted_result, 0, clip_on=False, zorder=3, color='purple')\n",
    "\n",
    "print(f\"True preference (green): {true_pref}\")\n",
    "print(f\"Unweighted result (red): {unweighted_result}\")\n",
    "print(f\"\\tDistance: {unweighted_distance}\")\n",
    "print(f\"Weighted result (purple): {weighted_result}\")\n",
    "print(f\"\\tDistance: {weighted_distance}\")\n",
    "print(f\"\\nBetter result: {'UNWEIGHTED' if unweighted_distance <= weighted_distance else 'WEIGHTED'}\")\n",
    "print(f\"\\tDifference: {abs(unweighted_distance - weighted_distance)}\")"
   ],
   "metadata": {
    "collapsed": false,
    "pycharm": {
     "name": "#%%\n",
     "is_executing": true
    }
   }
  },
  {
   "cell_type": "markdown",
   "source": [
    "# Testing"
   ],
   "metadata": {
    "collapsed": false,
    "pycharm": {
     "name": "#%% md\n"
    }
   }
  },
  {
   "cell_type": "code",
   "execution_count": 5,
   "outputs": [],
   "source": [
    "should_test = False\n",
    "if should_test:\n",
    "    import doctest\n",
    "    doctest.testmod()"
   ],
   "metadata": {
    "collapsed": false,
    "pycharm": {
     "name": "#%%\n"
    }
   }
  }
 ],
 "metadata": {
  "kernelspec": {
   "display_name": "Python 3",
   "language": "python",
   "name": "python3"
  },
  "language_info": {
   "codemirror_mode": {
    "name": "ipython",
    "version": 2
   },
   "file_extension": ".py",
   "mimetype": "text/x-python",
   "name": "python",
   "nbconvert_exporter": "python",
   "pygments_lexer": "ipython2",
   "version": "2.7.6"
  }
 },
 "nbformat": 4,
 "nbformat_minor": 0
}