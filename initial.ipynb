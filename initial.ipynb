{
 "cells": [
  {
   "cell_type": "code",
   "execution_count": null,
   "outputs": [],
   "source": [
    "import numpy as np\n",
    "import matplotlib.pyplot as plt\n",
    "\n",
    "from numberline import *\n",
    "import voting_rules as rules"
   ],
   "metadata": {
    "collapsed": false,
    "pycharm": {
     "name": "#%%\n"
    }
   }
  },
  {
   "cell_type": "code",
   "execution_count": null,
   "outputs": [],
   "source": [
    "def get_continuous_weights(values: [float], low: float, high: float) -> [tuple]:\n",
    "    \"\"\"\n",
    "    Returns a list of value-weight pairs for the given values assuming the\n",
    "    population is infinite, as per \"Proxy Voting for Better Outcomes\"\n",
    "    chapter 2, paragraph 2.\n",
    "\n",
    "    # Figure 1 second line of paper\n",
    "    >>> v = [1, 3, 6, 7, ]\n",
    "    >>> get_continuous_weights(v, 0, 10)\n",
    "    [(1, 2.0), (3, 2.5), (6, 2.0), (7, 3.5)]\n",
    "\n",
    "    # Figure 1 third line of paper\n",
    "    >>> v = [1, 6, 7, ]\n",
    "    >>> get_continuous_weights(v, 0, 10)\n",
    "    [(1, 3.5), (6, 3.0), (7, 3.5)]\n",
    "    \"\"\"\n",
    "    if len(values) == 0:\n",
    "        return []\n",
    "\n",
    "    low, high = min(low, high), max(low, high)\n",
    "\n",
    "    values = sorted(values)\n",
    "    assert low <= values[0] <= high, \"Values must be in the range [min_val, max_val]\"\n",
    "    assert low <= values[-1] <= high, \"Values must be in the range [min_val, max_val]\"\n",
    "\n",
    "    weights = [None] * len(values)\n",
    "\n",
    "    # prev_val_border will keep track of where the last value's range ends\n",
    "    prev_val_border = low\n",
    "    # Loop through all but the last, calculating the weights\n",
    "    for i in range(len(values) - 1):\n",
    "        val = values[i]\n",
    "        next_val = values[i + 1]\n",
    "        weight = val - prev_val_border + (next_val - val) / 2\n",
    "        weights[i] = weight\n",
    "        # The new border will be halfway between the current value and the next\n",
    "        prev_val_border = val + (next_val - val) / 2\n",
    "\n",
    "    weights[-1] = high - prev_val_border\n",
    "    return list(zip(values, weights))"
   ],
   "metadata": {
    "collapsed": false,
    "pycharm": {
     "name": "#%%\n"
    }
   }
  },
  {
   "cell_type": "code",
   "execution_count": null,
   "outputs": [],
   "source": [
    "min_val = 0\n",
    "max_val = 10\n",
    "size = 4\n",
    "\n",
    "true_pref = (max_val - min_val) / 2 + min_val\n",
    "vals = np.random.uniform(low=min_val, high=max_val, size=size)\n",
    "print(vals)"
   ],
   "metadata": {
    "collapsed": false,
    "pycharm": {
     "name": "#%%\n",
     "is_executing": true
    }
   }
  },
  {
   "cell_type": "code",
   "execution_count": null,
   "outputs": [],
   "source": [
    "unweighted_result_mean = rules.mean(vals)\n",
    "unweighted_distance_mean = abs(unweighted_result_mean - true_pref)\n",
    "\n",
    "weighted_vals = get_continuous_weights(vals, min_val, max_val)\n",
    "weighted_result_mean = rules.weighted_mean(weighted_vals)\n",
    "weighted_distance_mean = abs(weighted_result_mean - true_pref)\n",
    "\n",
    "print(\"MEAN\")\n",
    "print(f\"True preference: {true_pref}\")\n",
    "print(f\"Unweighted result: {unweighted_result_mean}\")\n",
    "print(f\"\\tDistance: {unweighted_distance_mean}\")\n",
    "print(f\"Weighted result: {weighted_result_mean}\")\n",
    "print(f\"\\tDistance: {weighted_distance_mean}\")\n",
    "print(f\"Better result: {'UNWEIGHTED' if unweighted_distance_mean <= weighted_distance_mean else 'WEIGHTED'}\")\n",
    "print(f\"\\tDifference: {abs(unweighted_distance_mean - weighted_distance_mean)}\")"
   ],
   "metadata": {
    "collapsed": false,
    "pycharm": {
     "name": "#%%\n"
    }
   }
  },
  {
   "cell_type": "code",
   "execution_count": null,
   "outputs": [],
   "source": [
    "unweighted_result_median = rules.median(vals)\n",
    "unweighted_distance_median = abs(unweighted_result_median - true_pref)\n",
    "\n",
    "weighted_vals = get_continuous_weights(vals, min_val, max_val)\n",
    "weighted_result_median = rules.weighted_median(weighted_vals)\n",
    "weighted_distance_median = abs(weighted_result_median - true_pref)\n",
    "\n",
    "print(\"MEDIAN\")\n",
    "print(f\"True preference: {true_pref}\")\n",
    "print(f\"Unweighted result: {unweighted_result_median}\")\n",
    "print(f\"\\tDistance: {unweighted_distance_median}\")\n",
    "print(f\"Weighted result: {weighted_result_median}\")\n",
    "print(f\"\\tDistance: {weighted_distance_median}\")\n",
    "print(f\"Better result: {'UNWEIGHTED' if unweighted_distance_median <= weighted_distance_median else 'WEIGHTED'}\")\n",
    "print(f\"\\tDifference: {abs(unweighted_distance_median - weighted_distance_median)}\")"
   ],
   "metadata": {
    "collapsed": false,
    "pycharm": {
     "name": "#%%\n"
    }
   }
  },
  {
   "cell_type": "code",
   "execution_count": null,
   "outputs": [],
   "source": [
    "print(f\"True preference: green\")\n",
    "print(f\"Unweighted result: red\")\n",
    "print(f\"Weighted result: purple\")\n",
    "\n",
    "print()\n",
    "print(f\"Best weighted rule: {'MEDIAN' if weighted_distance_median < weighted_distance_mean else 'TIE' if weighted_distance_median == weighted_distance_mean else 'MEAN'}\")\n",
    "print(f\"Best unweighted rule: {'MEDIAN' if unweighted_distance_median < unweighted_distance_mean else 'TIE' if unweighted_distance_median == unweighted_distance_mean else 'MEAN'}\")\n",
    "\n",
    "ax = numberline(vals, min_val, max_val)\n",
    "ax.scatter(true_pref, 0, clip_on=False, zorder=3, color='green')\n",
    "ax.scatter(unweighted_result_mean, 0, clip_on=False, zorder=3, color='red')\n",
    "ax.scatter(weighted_result_mean, 0, clip_on=False, zorder=3, color='purple')\n",
    "plt.title(\"MEAN\")\n",
    "\n",
    "ax = numberline(vals, min_val, max_val)\n",
    "ax.scatter(true_pref, 0, clip_on=False, zorder=3, color='green')\n",
    "ax.scatter(unweighted_result_median, 0, clip_on=False, zorder=3, color='red')\n",
    "ax.scatter(weighted_result_median, 0, clip_on=False, zorder=3, color='purple')\n",
    "plt.title(\"MEDIAN\");"
   ],
   "metadata": {
    "collapsed": false,
    "pycharm": {
     "name": "#%%\n"
    }
   }
  },
  {
   "cell_type": "markdown",
   "source": [
    "# Testing"
   ],
   "metadata": {
    "collapsed": false,
    "pycharm": {
     "name": "#%% md\n"
    }
   }
  },
  {
   "cell_type": "code",
   "execution_count": null,
   "outputs": [],
   "source": [
    "should_test = False\n",
    "if should_test:\n",
    "    import doctest\n",
    "    doctest.testmod()"
   ],
   "metadata": {
    "collapsed": false,
    "pycharm": {
     "name": "#%%\n"
    }
   }
  }
 ],
 "metadata": {
  "kernelspec": {
   "display_name": "Python 3",
   "language": "python",
   "name": "python3"
  },
  "language_info": {
   "codemirror_mode": {
    "name": "ipython",
    "version": 2
   },
   "file_extension": ".py",
   "mimetype": "text/x-python",
   "name": "python",
   "nbconvert_exporter": "python",
   "pygments_lexer": "ipython2",
   "version": "2.7.6"
  }
 },
 "nbformat": 4,
 "nbformat_minor": 0
}